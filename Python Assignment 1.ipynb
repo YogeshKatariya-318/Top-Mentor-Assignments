{
 "cells": [
  {
   "cell_type": "markdown",
   "metadata": {},
   "source": [
    "# Question 1\n"
   ]
  },
  {
   "cell_type": "code",
   "execution_count": 1,
   "metadata": {},
   "outputs": [
    {
     "name": "stdout",
     "output_type": "stream",
     "text": [
      "Welcome To Python\n"
     ]
    }
   ],
   "source": [
    "Language = \"Welcome To Python\"\n",
    "print(Language)"
   ]
  },
  {
   "cell_type": "markdown",
   "metadata": {},
   "source": [
    "# Question 2"
   ]
  },
  {
   "cell_type": "code",
   "execution_count": 2,
   "metadata": {},
   "outputs": [
    {
     "name": "stdout",
     "output_type": "stream",
     "text": [
      "Rich Dad Poor Dad\n",
      "Auto Pilot\n"
     ]
    }
   ],
   "source": [
    "Book = \"Rich Dad Poor Dad\"\n",
    "print(Book)\n",
    "Book = \"Auto Pilot\"\n",
    "print(Book)"
   ]
  },
  {
   "cell_type": "markdown",
   "metadata": {},
   "source": [
    "# Question 3"
   ]
  },
  {
   "cell_type": "code",
   "execution_count": 5,
   "metadata": {},
   "outputs": [
    {
     "name": "stdout",
     "output_type": "stream",
     "text": [
      "Hello Pavan ,  How are you today ?\n"
     ]
    }
   ],
   "source": [
    "Name = \"Pavan\"\n",
    "print(\"Hello\",Name,\", How are you today ?\")"
   ]
  },
  {
   "cell_type": "markdown",
   "metadata": {},
   "source": [
    "# Question 4"
   ]
  },
  {
   "cell_type": "code",
   "execution_count": 6,
   "metadata": {},
   "outputs": [
    {
     "name": "stdout",
     "output_type": "stream",
     "text": [
      "Rahul Dravid once said,\"Reading allows me to recharge my batteries.\"\n"
     ]
    }
   ],
   "source": [
    "print('Rahul Dravid once said,\"Reading allows me to recharge my batteries.\"')"
   ]
  },
  {
   "cell_type": "markdown",
   "metadata": {},
   "source": [
    "# Question 5"
   ]
  },
  {
   "cell_type": "code",
   "execution_count": 9,
   "metadata": {},
   "outputs": [
    {
     "name": "stdout",
     "output_type": "stream",
     "text": [
      "Rahul Dravid once said, \"Reading allows me to recharge my batteries.\"\n"
     ]
    }
   ],
   "source": [
    "famous_person = \"Rahul Dravid \"\n",
    "message = '\"Reading allows me to recharge my batteries.\"'\n",
    "print(famous_person + \"once said, \" + message)"
   ]
  },
  {
   "cell_type": "markdown",
   "metadata": {},
   "source": [
    "# Question 6"
   ]
  },
  {
   "cell_type": "code",
   "execution_count": 10,
   "metadata": {},
   "outputs": [
    {
     "name": "stdout",
     "output_type": "stream",
     "text": [
      "8\n",
      "8\n",
      "8\n",
      "8.0\n"
     ]
    }
   ],
   "source": [
    "print(4 + 4)\n",
    "print(12 - 4)\n",
    "print(4 * 2)\n",
    "print(16 / 2)"
   ]
  },
  {
   "cell_type": "markdown",
   "metadata": {},
   "source": [
    "# Question 7"
   ]
  },
  {
   "cell_type": "code",
   "execution_count": 11,
   "metadata": {},
   "outputs": [
    {
     "name": "stdout",
     "output_type": "stream",
     "text": [
      "My favourite number is: 31\n"
     ]
    }
   ],
   "source": [
    "number = 31\n",
    "print(\"My favourite number is:\",number)"
   ]
  },
  {
   "cell_type": "markdown",
   "metadata": {},
   "source": [
    "# Question 8"
   ]
  },
  {
   "cell_type": "code",
   "execution_count": 12,
   "metadata": {},
   "outputs": [
    {
     "name": "stdout",
     "output_type": "stream",
     "text": [
      "Rahul Dravid once said, \"Reading allows me to recharge my batteries.\"\n",
      "8\n",
      "8\n",
      "8\n",
      "8.0\n"
     ]
    }
   ],
   "source": [
    "# Yogesh - 20th May - This code uses \"String Concatenation\"\n",
    "\n",
    "famous_person = \"Rahul Dravid \"\n",
    "message = '\"Reading allows me to recharge my batteries.\"'\n",
    "print(famous_person + \"once said, \" + message)\n",
    "\n",
    "\n",
    "# Yogesh - 20th May - This code uses addition, subtraction, multiplication and division operations\n",
    "\n",
    "print(4 + 4)\n",
    "print(12 - 4)\n",
    "print(4 * 2)\n",
    "print(16 / 2)"
   ]
  },
  {
   "cell_type": "markdown",
   "metadata": {},
   "source": [
    "# Question 9 "
   ]
  },
  {
   "cell_type": "code",
   "execution_count": 14,
   "metadata": {},
   "outputs": [
    {
     "name": "stdout",
     "output_type": "stream",
     "text": [
      "Rahul\n",
      "Ashish\n",
      "Yash\n",
      "Sahil\n",
      "Pavan\n"
     ]
    }
   ],
   "source": [
    "names = [\"Rahul\",\"Ashish\",\"Yash\",\"Sahil\",\"Pavan\"]\n",
    "print(names[0])\n",
    "print(names[1])\n",
    "print(names[2])\n",
    "print(names[3])\n",
    "print(names[4])"
   ]
  },
  {
   "cell_type": "markdown",
   "metadata": {},
   "source": [
    "# Question 10"
   ]
  },
  {
   "cell_type": "code",
   "execution_count": 15,
   "metadata": {},
   "outputs": [
    {
     "name": "stdout",
     "output_type": "stream",
     "text": [
      "How are you ? Rahul\n",
      "How are you ? Ashish\n",
      "How are you ? Yash\n",
      "How are you ? Sahil\n",
      "How are you ? Pavan\n"
     ]
    }
   ],
   "source": [
    "names = [\"Rahul\",\"Ashish\",\"Yash\",\"Sahil\",\"Pavan\"]\n",
    "print(\"How are you ?\",names[0])\n",
    "print(\"How are you ?\",names[1])\n",
    "print(\"How are you ?\",names[2])\n",
    "print(\"How are you ?\",names[3])\n",
    "print(\"How are you ?\",names[4])"
   ]
  },
  {
   "cell_type": "markdown",
   "metadata": {},
   "source": [
    "# Question 11\n"
   ]
  },
  {
   "cell_type": "code",
   "execution_count": 18,
   "metadata": {},
   "outputs": [
    {
     "name": "stdout",
     "output_type": "stream",
     "text": [
      "I like to go on Drive with my Friends on my Bullet and like to have a cup of Tea wherever we stops.\n"
     ]
    }
   ],
   "source": [
    "list = [\"Bullet\",\"Drive\",\"Tea\",\"Friends\"]\n",
    "print(\"I like to go on\",list[1],\"with my\",list[3],\"on my\",list[0],\"and like to have a cup of\",list[2],\"wherever we stops.\")"
   ]
  },
  {
   "cell_type": "code",
   "execution_count": null,
   "metadata": {},
   "outputs": [],
   "source": []
  }
 ],
 "metadata": {
  "kernelspec": {
   "display_name": "Python 3",
   "language": "python",
   "name": "python3"
  },
  "language_info": {
   "codemirror_mode": {
    "name": "ipython",
    "version": 3
   },
   "file_extension": ".py",
   "mimetype": "text/x-python",
   "name": "python",
   "nbconvert_exporter": "python",
   "pygments_lexer": "ipython3",
   "version": "3.8.5"
  }
 },
 "nbformat": 4,
 "nbformat_minor": 4
}
